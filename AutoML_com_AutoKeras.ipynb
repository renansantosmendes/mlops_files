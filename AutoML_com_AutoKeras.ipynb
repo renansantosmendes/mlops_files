{
  "nbformat": 4,
  "nbformat_minor": 0,
  "metadata": {
    "colab": {
      "provenance": []
    },
    "kernelspec": {
      "name": "python3",
      "display_name": "Python 3"
    },
    "language_info": {
      "name": "python"
    }
  },
  "cells": [
    {
      "cell_type": "markdown",
      "source": [
        "# **AutoML com AutoKeras**\n",
        "- O Automated Machine Learning é também conhecido como AutoML;\n",
        "- Ferramentas e serviços que abstraem os detalhes e conhecimentos necessários para se realizar ML/DL;\n",
        "- Automatiza-se determinadas tarefas necessárias no desenvolvimento de algum modelo;\n",
        "- Geralmente, cobrem etapas de normalização de dados e engenharia de “features”; treinamento de modelos de diferentes tipos e com diferentes hiperparâmetros; avaliação e comparação de resultados;\n",
        "- Algumas ferramentas: H2O, AutoKeras e TPOT;\n",
        "\n",
        "- Vantagens:  \n",
        "  - Necessário conhecimento superficial de ML/DL para se utilizar as ferramentas;\n",
        "  - Diminui o tempo para se ter resultados iniciais;\n",
        "  - Pode-se utilizar em diferentes tipos de dados e problemas (baseline);\n",
        "  - Algumas ferramentas possibilitam customizar modelos/layers;\n",
        "- Desvantagens:\n",
        "  - Customização que pode ser limitada ou dificultada;\n",
        "  - Pode-se não obter resultado bom o bastante para o problema, precisando da intervenção de especialistas;\n",
        "\n"
      ],
      "metadata": {
        "id": "R_hwXhTfHh-v"
      }
    },
    {
      "cell_type": "code",
      "execution_count": null,
      "metadata": {
        "id": "BpImE2GHOycE"
      },
      "outputs": [],
      "source": [
        "!pip install autokeras==1.0.19 -q"
      ]
    },
    {
      "cell_type": "code",
      "source": [
        "import tensorflow\n",
        "from tensorflow import keras\n",
        "from keras import preprocessing\n",
        "from autokeras import StructuredDataClassifier\n",
        "\n",
        "import os\n",
        "import pandas as pd\n",
        "import sklearn\n",
        "from sklearn.preprocessing import StandardScaler\n",
        "from sklearn.model_selection import train_test_split"
      ],
      "metadata": {
        "id": "CjP8cFkwOzH9"
      },
      "execution_count": null,
      "outputs": []
    },
    {
      "cell_type": "code",
      "source": [
        "%%time\n",
        "!rm -r lectures-cdas-2023\n",
        "!git clone https://github.com/renansantosmendes/lectures-cdas-2023.git"
      ],
      "metadata": {
        "id": "fB7dYyqXO25X"
      },
      "execution_count": null,
      "outputs": []
    },
    {
      "cell_type": "code",
      "source": [
        "data = pd.read_csv(os.path.join('lectures-cdas-2023', 'fetal_health.csv'))"
      ],
      "metadata": {
        "id": "2cpQXl2OPnhn"
      },
      "execution_count": null,
      "outputs": []
    },
    {
      "cell_type": "code",
      "source": [
        "X=data.drop([\"fetal_health\"], axis=1)\n",
        "y=data[\"fetal_health\"]\n",
        "\n",
        "columns_names = list(X.columns)\n",
        "X_df = sklearn.preprocessing.StandardScaler().fit_transform(X)\n",
        "X_df = pd.DataFrame(X_df, columns=columns_names)\n",
        "\n",
        "X_train, X_test, y_train, y_test = train_test_split(X_df, y, test_size=0.3, random_state=42)\n",
        "y_train=keras.utils.to_categorical(y_train)[:,1:]\n",
        "y_test=keras.utils.to_categorical(y_test)[:,1:]"
      ],
      "metadata": {
        "id": "UmQ4LCnYX8Gp"
      },
      "execution_count": null,
      "outputs": []
    },
    {
      "cell_type": "code",
      "source": [
        "%%time\n",
        "clf = StructuredDataClassifier(overwrite=True, max_trials=15)\n",
        "clf.fit(x=X_train, y=y_train, epochs=10)"
      ],
      "metadata": {
        "id": "z0zBedX1XjsJ"
      },
      "execution_count": null,
      "outputs": []
    },
    {
      "cell_type": "code",
      "source": [
        "model = clf.export_model()"
      ],
      "metadata": {
        "id": "Gvcn5ij8-cVy"
      },
      "execution_count": null,
      "outputs": []
    },
    {
      "cell_type": "code",
      "source": [
        "model.summary()"
      ],
      "metadata": {
        "id": "AW-bYXRuyxvm"
      },
      "execution_count": null,
      "outputs": []
    },
    {
      "cell_type": "code",
      "source": [
        "model.evaluate(X_test, y_test)"
      ],
      "metadata": {
        "id": "gOn3uquJyzqf"
      },
      "execution_count": null,
      "outputs": []
    },
    {
      "cell_type": "code",
      "source": [],
      "metadata": {
        "id": "N3flnXXjzSv6"
      },
      "execution_count": null,
      "outputs": []
    }
  ]
}